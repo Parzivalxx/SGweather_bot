{
 "cells": [
  {
   "cell_type": "code",
   "execution_count": 1,
   "id": "74eed67a",
   "metadata": {},
   "outputs": [],
   "source": [
    "import requests\n",
    "import datetime\n",
    "from math import cos, asin, sqrt, pi"
   ]
  },
  {
   "cell_type": "code",
   "execution_count": 2,
   "id": "5605419f",
   "metadata": {},
   "outputs": [],
   "source": [
    "now = datetime.datetime.now()\n",
    "params = {\"date_time\": now.strftime(\"%Y-%m-%dT%H:%M:%S%Z\")} # YYYY-MM-DD"
   ]
  },
  {
   "cell_type": "code",
   "execution_count": 41,
   "id": "70fe06b8",
   "metadata": {},
   "outputs": [],
   "source": [
    "r = requests.get(\"https://api.data.gov.sg/v1/environment/2-hour-weather-forecast\", params=params).json()"
   ]
  },
  {
   "cell_type": "code",
   "execution_count": 42,
   "id": "d782d39a",
   "metadata": {},
   "outputs": [
    {
     "data": {
      "text/plain": [
       "{'area_metadata': [{'name': 'Ang Mo Kio',\n",
       "   'label_location': {'latitude': 1.375, 'longitude': 103.839}},\n",
       "  {'name': 'Bedok',\n",
       "   'label_location': {'latitude': 1.321, 'longitude': 103.924}},\n",
       "  {'name': 'Bishan',\n",
       "   'label_location': {'latitude': 1.350772, 'longitude': 103.839}},\n",
       "  {'name': 'Boon Lay',\n",
       "   'label_location': {'latitude': 1.304, 'longitude': 103.701}},\n",
       "  {'name': 'Bukit Batok',\n",
       "   'label_location': {'latitude': 1.353, 'longitude': 103.754}},\n",
       "  {'name': 'Bukit Merah',\n",
       "   'label_location': {'latitude': 1.277, 'longitude': 103.819}},\n",
       "  {'name': 'Bukit Panjang',\n",
       "   'label_location': {'latitude': 1.362, 'longitude': 103.77195}},\n",
       "  {'name': 'Bukit Timah',\n",
       "   'label_location': {'latitude': 1.325, 'longitude': 103.791}},\n",
       "  {'name': 'Central Water Catchment',\n",
       "   'label_location': {'latitude': 1.38, 'longitude': 103.805}},\n",
       "  {'name': 'Changi',\n",
       "   'label_location': {'latitude': 1.357, 'longitude': 103.987}},\n",
       "  {'name': 'Choa Chu Kang',\n",
       "   'label_location': {'latitude': 1.377, 'longitude': 103.745}},\n",
       "  {'name': 'Clementi',\n",
       "   'label_location': {'latitude': 1.315, 'longitude': 103.76}},\n",
       "  {'name': 'City',\n",
       "   'label_location': {'latitude': 1.292, 'longitude': 103.844}},\n",
       "  {'name': 'Geylang',\n",
       "   'label_location': {'latitude': 1.318, 'longitude': 103.884}},\n",
       "  {'name': 'Hougang',\n",
       "   'label_location': {'latitude': 1.361218, 'longitude': 103.886}},\n",
       "  {'name': 'Jalan Bahar',\n",
       "   'label_location': {'latitude': 1.347, 'longitude': 103.67}},\n",
       "  {'name': 'Jurong East',\n",
       "   'label_location': {'latitude': 1.326, 'longitude': 103.737}},\n",
       "  {'name': 'Jurong Island',\n",
       "   'label_location': {'latitude': 1.266, 'longitude': 103.699}},\n",
       "  {'name': 'Jurong West',\n",
       "   'label_location': {'latitude': 1.34039, 'longitude': 103.705}},\n",
       "  {'name': 'Kallang',\n",
       "   'label_location': {'latitude': 1.312, 'longitude': 103.862}},\n",
       "  {'name': 'Lim Chu Kang',\n",
       "   'label_location': {'latitude': 1.423, 'longitude': 103.717332}},\n",
       "  {'name': 'Mandai',\n",
       "   'label_location': {'latitude': 1.419, 'longitude': 103.812}},\n",
       "  {'name': 'Marine Parade',\n",
       "   'label_location': {'latitude': 1.297, 'longitude': 103.891}},\n",
       "  {'name': 'Novena',\n",
       "   'label_location': {'latitude': 1.327, 'longitude': 103.826}},\n",
       "  {'name': 'Pasir Ris',\n",
       "   'label_location': {'latitude': 1.37, 'longitude': 103.948}},\n",
       "  {'name': 'Paya Lebar',\n",
       "   'label_location': {'latitude': 1.358, 'longitude': 103.914}},\n",
       "  {'name': 'Pioneer',\n",
       "   'label_location': {'latitude': 1.315, 'longitude': 103.675}},\n",
       "  {'name': 'Pulau Tekong',\n",
       "   'label_location': {'latitude': 1.403, 'longitude': 104.053}},\n",
       "  {'name': 'Pulau Ubin',\n",
       "   'label_location': {'latitude': 1.404, 'longitude': 103.96}},\n",
       "  {'name': 'Punggol',\n",
       "   'label_location': {'latitude': 1.401, 'longitude': 103.904}},\n",
       "  {'name': 'Queenstown',\n",
       "   'label_location': {'latitude': 1.291, 'longitude': 103.78576}},\n",
       "  {'name': 'Seletar',\n",
       "   'label_location': {'latitude': 1.404, 'longitude': 103.869}},\n",
       "  {'name': 'Sembawang',\n",
       "   'label_location': {'latitude': 1.445, 'longitude': 103.818495}},\n",
       "  {'name': 'Sengkang',\n",
       "   'label_location': {'latitude': 1.384, 'longitude': 103.891443}},\n",
       "  {'name': 'Sentosa',\n",
       "   'label_location': {'latitude': 1.243, 'longitude': 103.832}},\n",
       "  {'name': 'Serangoon',\n",
       "   'label_location': {'latitude': 1.357, 'longitude': 103.865}},\n",
       "  {'name': 'Southern Islands',\n",
       "   'label_location': {'latitude': 1.208, 'longitude': 103.842}},\n",
       "  {'name': 'Sungei Kadut',\n",
       "   'label_location': {'latitude': 1.413, 'longitude': 103.756}},\n",
       "  {'name': 'Tampines',\n",
       "   'label_location': {'latitude': 1.345, 'longitude': 103.944}},\n",
       "  {'name': 'Tanglin',\n",
       "   'label_location': {'latitude': 1.308, 'longitude': 103.813}},\n",
       "  {'name': 'Tengah',\n",
       "   'label_location': {'latitude': 1.374, 'longitude': 103.715}},\n",
       "  {'name': 'Toa Payoh',\n",
       "   'label_location': {'latitude': 1.334304, 'longitude': 103.856327}},\n",
       "  {'name': 'Tuas',\n",
       "   'label_location': {'latitude': 1.294947, 'longitude': 103.635}},\n",
       "  {'name': 'Western Islands',\n",
       "   'label_location': {'latitude': 1.205926, 'longitude': 103.746}},\n",
       "  {'name': 'Western Water Catchment',\n",
       "   'label_location': {'latitude': 1.405, 'longitude': 103.689}},\n",
       "  {'name': 'Woodlands',\n",
       "   'label_location': {'latitude': 1.432, 'longitude': 103.786528}},\n",
       "  {'name': 'Yishun',\n",
       "   'label_location': {'latitude': 1.418, 'longitude': 103.839}}],\n",
       " 'items': [{'update_timestamp': '2021-12-16T00:38:52+08:00',\n",
       "   'timestamp': '2021-12-16T00:30:00+08:00',\n",
       "   'valid_period': {'start': '2021-12-16T00:30:00+08:00',\n",
       "    'end': '2021-12-16T02:30:00+08:00'},\n",
       "   'forecasts': [{'area': 'Ang Mo Kio', 'forecast': 'Windy'},\n",
       "    {'area': 'Bedok', 'forecast': 'Windy'},\n",
       "    {'area': 'Bishan', 'forecast': 'Windy'},\n",
       "    {'area': 'Boon Lay', 'forecast': 'Windy'},\n",
       "    {'area': 'Bukit Batok', 'forecast': 'Windy'},\n",
       "    {'area': 'Bukit Merah', 'forecast': 'Windy'},\n",
       "    {'area': 'Bukit Panjang', 'forecast': 'Windy'},\n",
       "    {'area': 'Bukit Timah', 'forecast': 'Windy'},\n",
       "    {'area': 'Central Water Catchment', 'forecast': 'Windy'},\n",
       "    {'area': 'Changi', 'forecast': 'Windy'},\n",
       "    {'area': 'Choa Chu Kang', 'forecast': 'Windy'},\n",
       "    {'area': 'Clementi', 'forecast': 'Windy'},\n",
       "    {'area': 'City', 'forecast': 'Windy'},\n",
       "    {'area': 'Geylang', 'forecast': 'Windy'},\n",
       "    {'area': 'Hougang', 'forecast': 'Windy'},\n",
       "    {'area': 'Jalan Bahar', 'forecast': 'Windy'},\n",
       "    {'area': 'Jurong East', 'forecast': 'Windy'},\n",
       "    {'area': 'Jurong Island', 'forecast': 'Windy'},\n",
       "    {'area': 'Jurong West', 'forecast': 'Windy'},\n",
       "    {'area': 'Kallang', 'forecast': 'Windy'},\n",
       "    {'area': 'Lim Chu Kang', 'forecast': 'Windy'},\n",
       "    {'area': 'Mandai', 'forecast': 'Windy'},\n",
       "    {'area': 'Marine Parade', 'forecast': 'Windy'},\n",
       "    {'area': 'Novena', 'forecast': 'Windy'},\n",
       "    {'area': 'Pasir Ris', 'forecast': 'Windy'},\n",
       "    {'area': 'Paya Lebar', 'forecast': 'Windy'},\n",
       "    {'area': 'Pioneer', 'forecast': 'Windy'},\n",
       "    {'area': 'Pulau Tekong', 'forecast': 'Windy'},\n",
       "    {'area': 'Pulau Ubin', 'forecast': 'Windy'},\n",
       "    {'area': 'Punggol', 'forecast': 'Windy'},\n",
       "    {'area': 'Queenstown', 'forecast': 'Windy'},\n",
       "    {'area': 'Seletar', 'forecast': 'Windy'},\n",
       "    {'area': 'Sembawang', 'forecast': 'Windy'},\n",
       "    {'area': 'Sengkang', 'forecast': 'Windy'},\n",
       "    {'area': 'Sentosa', 'forecast': 'Windy'},\n",
       "    {'area': 'Serangoon', 'forecast': 'Windy'},\n",
       "    {'area': 'Southern Islands', 'forecast': 'Windy'},\n",
       "    {'area': 'Sungei Kadut', 'forecast': 'Windy'},\n",
       "    {'area': 'Tampines', 'forecast': 'Windy'},\n",
       "    {'area': 'Tanglin', 'forecast': 'Windy'},\n",
       "    {'area': 'Tengah', 'forecast': 'Windy'},\n",
       "    {'area': 'Toa Payoh', 'forecast': 'Windy'},\n",
       "    {'area': 'Tuas', 'forecast': 'Windy'},\n",
       "    {'area': 'Western Islands', 'forecast': 'Windy'},\n",
       "    {'area': 'Western Water Catchment', 'forecast': 'Windy'},\n",
       "    {'area': 'Woodlands', 'forecast': 'Windy'},\n",
       "    {'area': 'Yishun', 'forecast': 'Windy'}]}],\n",
       " 'api_info': {'status': 'healthy'}}"
      ]
     },
     "execution_count": 42,
     "metadata": {},
     "output_type": "execute_result"
    }
   ],
   "source": [
    "r"
   ]
  },
  {
   "cell_type": "code",
   "execution_count": 49,
   "id": "3c6e51b1",
   "metadata": {},
   "outputs": [
    {
     "data": {
      "text/plain": [
       "<Response [200]>"
      ]
     },
     "execution_count": 49,
     "metadata": {},
     "output_type": "execute_result"
    }
   ],
   "source": [
    "result = requests.get(\"https://geocode.xyz/548429?region=SG&geoit=json&auth=19351798821495455197x104312\")\n",
    "result"
   ]
  },
  {
   "cell_type": "code",
   "execution_count": 50,
   "id": "596a79fd",
   "metadata": {},
   "outputs": [
    {
     "data": {
      "text/plain": [
       "{'standard': {'addresst': '25 JANSEN ROAD',\n",
       "  'stnumber': '25',\n",
       "  'region': 'SG',\n",
       "  'postal': '548429',\n",
       "  'city': 'Singapore',\n",
       "  'prov': 'SG',\n",
       "  'countryname': 'Singapore',\n",
       "  'confidence': '0.3'},\n",
       " 'longt': '103.87649',\n",
       " 'alt': {'loc': {'streets': {'street_address': {'staddress': 'JANSEN ROAD',\n",
       "     'stnumber': '25-25'}},\n",
       "   'longt': '103.87649',\n",
       "   'city': 'Singapore',\n",
       "   'cc': '1',\n",
       "   'region': 'SG',\n",
       "   'latt': '1.35983'}},\n",
       " 'elevation': {},\n",
       " 'remaining_credits': '-5',\n",
       " 'latt': '1.35983'}"
      ]
     },
     "execution_count": 50,
     "metadata": {},
     "output_type": "execute_result"
    }
   ],
   "source": [
    "location_data = result.json()\n",
    "location_data"
   ]
  },
  {
   "cell_type": "code",
   "execution_count": 51,
   "id": "787ad1f9",
   "metadata": {},
   "outputs": [
    {
     "data": {
      "text/plain": [
       "'25 JANSEN ROAD'"
      ]
     },
     "execution_count": 51,
     "metadata": {},
     "output_type": "execute_result"
    }
   ],
   "source": [
    "location_data[\"standard\"][\"addresst\"]"
   ]
  },
  {
   "cell_type": "code",
   "execution_count": 6,
   "id": "7fa179c6",
   "metadata": {},
   "outputs": [
    {
     "data": {
      "text/plain": [
       "[1.35983, 103.87649]"
      ]
     },
     "execution_count": 6,
     "metadata": {},
     "output_type": "execute_result"
    }
   ],
   "source": [
    "coords = []\n",
    "coords.append(float(location_data[\"latt\"])) # location latitude\n",
    "coords.append(float(location_data[\"longt\"])) # location longitude\n",
    "coords"
   ]
  },
  {
   "cell_type": "code",
   "execution_count": 55,
   "id": "f774ee49",
   "metadata": {
    "scrolled": true
   },
   "outputs": [
    {
     "data": {
      "text/plain": [
       "[{'name': 'Ang Mo Kio',\n",
       "  'label_location': {'latitude': 1.375, 'longitude': 103.839}},\n",
       " {'name': 'Bedok',\n",
       "  'label_location': {'latitude': 1.321, 'longitude': 103.924}},\n",
       " {'name': 'Bishan',\n",
       "  'label_location': {'latitude': 1.350772, 'longitude': 103.839}},\n",
       " {'name': 'Boon Lay',\n",
       "  'label_location': {'latitude': 1.304, 'longitude': 103.701}},\n",
       " {'name': 'Bukit Batok',\n",
       "  'label_location': {'latitude': 1.353, 'longitude': 103.754}},\n",
       " {'name': 'Bukit Merah',\n",
       "  'label_location': {'latitude': 1.277, 'longitude': 103.819}},\n",
       " {'name': 'Bukit Panjang',\n",
       "  'label_location': {'latitude': 1.362, 'longitude': 103.77195}},\n",
       " {'name': 'Bukit Timah',\n",
       "  'label_location': {'latitude': 1.325, 'longitude': 103.791}},\n",
       " {'name': 'Central Water Catchment',\n",
       "  'label_location': {'latitude': 1.38, 'longitude': 103.805}},\n",
       " {'name': 'Changi',\n",
       "  'label_location': {'latitude': 1.357, 'longitude': 103.987}},\n",
       " {'name': 'Choa Chu Kang',\n",
       "  'label_location': {'latitude': 1.377, 'longitude': 103.745}},\n",
       " {'name': 'Clementi',\n",
       "  'label_location': {'latitude': 1.315, 'longitude': 103.76}},\n",
       " {'name': 'City', 'label_location': {'latitude': 1.292, 'longitude': 103.844}},\n",
       " {'name': 'Geylang',\n",
       "  'label_location': {'latitude': 1.318, 'longitude': 103.884}},\n",
       " {'name': 'Hougang',\n",
       "  'label_location': {'latitude': 1.361218, 'longitude': 103.886}},\n",
       " {'name': 'Jalan Bahar',\n",
       "  'label_location': {'latitude': 1.347, 'longitude': 103.67}},\n",
       " {'name': 'Jurong East',\n",
       "  'label_location': {'latitude': 1.326, 'longitude': 103.737}},\n",
       " {'name': 'Jurong Island',\n",
       "  'label_location': {'latitude': 1.266, 'longitude': 103.699}},\n",
       " {'name': 'Jurong West',\n",
       "  'label_location': {'latitude': 1.34039, 'longitude': 103.705}},\n",
       " {'name': 'Kallang',\n",
       "  'label_location': {'latitude': 1.312, 'longitude': 103.862}},\n",
       " {'name': 'Lim Chu Kang',\n",
       "  'label_location': {'latitude': 1.423, 'longitude': 103.717332}},\n",
       " {'name': 'Mandai',\n",
       "  'label_location': {'latitude': 1.419, 'longitude': 103.812}},\n",
       " {'name': 'Marine Parade',\n",
       "  'label_location': {'latitude': 1.297, 'longitude': 103.891}},\n",
       " {'name': 'Novena',\n",
       "  'label_location': {'latitude': 1.327, 'longitude': 103.826}},\n",
       " {'name': 'Pasir Ris',\n",
       "  'label_location': {'latitude': 1.37, 'longitude': 103.948}},\n",
       " {'name': 'Paya Lebar',\n",
       "  'label_location': {'latitude': 1.358, 'longitude': 103.914}},\n",
       " {'name': 'Pioneer',\n",
       "  'label_location': {'latitude': 1.315, 'longitude': 103.675}},\n",
       " {'name': 'Pulau Tekong',\n",
       "  'label_location': {'latitude': 1.403, 'longitude': 104.053}},\n",
       " {'name': 'Pulau Ubin',\n",
       "  'label_location': {'latitude': 1.404, 'longitude': 103.96}},\n",
       " {'name': 'Punggol',\n",
       "  'label_location': {'latitude': 1.401, 'longitude': 103.904}},\n",
       " {'name': 'Queenstown',\n",
       "  'label_location': {'latitude': 1.291, 'longitude': 103.78576}},\n",
       " {'name': 'Seletar',\n",
       "  'label_location': {'latitude': 1.404, 'longitude': 103.869}},\n",
       " {'name': 'Sembawang',\n",
       "  'label_location': {'latitude': 1.445, 'longitude': 103.818495}},\n",
       " {'name': 'Sengkang',\n",
       "  'label_location': {'latitude': 1.384, 'longitude': 103.891443}},\n",
       " {'name': 'Sentosa',\n",
       "  'label_location': {'latitude': 1.243, 'longitude': 103.832}},\n",
       " {'name': 'Serangoon',\n",
       "  'label_location': {'latitude': 1.357, 'longitude': 103.865}},\n",
       " {'name': 'Southern Islands',\n",
       "  'label_location': {'latitude': 1.208, 'longitude': 103.842}},\n",
       " {'name': 'Sungei Kadut',\n",
       "  'label_location': {'latitude': 1.413, 'longitude': 103.756}},\n",
       " {'name': 'Tampines',\n",
       "  'label_location': {'latitude': 1.345, 'longitude': 103.944}},\n",
       " {'name': 'Tanglin',\n",
       "  'label_location': {'latitude': 1.308, 'longitude': 103.813}},\n",
       " {'name': 'Tengah',\n",
       "  'label_location': {'latitude': 1.374, 'longitude': 103.715}},\n",
       " {'name': 'Toa Payoh',\n",
       "  'label_location': {'latitude': 1.334304, 'longitude': 103.856327}},\n",
       " {'name': 'Tuas',\n",
       "  'label_location': {'latitude': 1.294947, 'longitude': 103.635}},\n",
       " {'name': 'Western Islands',\n",
       "  'label_location': {'latitude': 1.205926, 'longitude': 103.746}},\n",
       " {'name': 'Western Water Catchment',\n",
       "  'label_location': {'latitude': 1.405, 'longitude': 103.689}},\n",
       " {'name': 'Woodlands',\n",
       "  'label_location': {'latitude': 1.432, 'longitude': 103.786528}},\n",
       " {'name': 'Yishun',\n",
       "  'label_location': {'latitude': 1.418, 'longitude': 103.839}}]"
      ]
     },
     "execution_count": 55,
     "metadata": {},
     "output_type": "execute_result"
    }
   ],
   "source": [
    "r[\"area_metadata\"]"
   ]
  },
  {
   "cell_type": "code",
   "execution_count": 14,
   "id": "b8755265",
   "metadata": {},
   "outputs": [],
   "source": [
    "def distance(lat1, lon1, lat2, lon2):\n",
    "    p = pi/180\n",
    "    a = 0.5 - cos((lat2-lat1)*p)/2 + cos(lat1*p) * cos(lat2*p) * (1-cos((lon2-lon1)*p))/2\n",
    "    return 12742 * asin(sqrt(a)) #2*R*asin..."
   ]
  },
  {
   "cell_type": "code",
   "execution_count": 58,
   "id": "fd277ec4",
   "metadata": {
    "scrolled": true
   },
   "outputs": [
    {
     "data": {
      "text/plain": [
       "{'Ang Mo Kio': {'latitude': 1.375, 'longitude': 103.839},\n",
       " 'Bedok': {'latitude': 1.321, 'longitude': 103.924},\n",
       " 'Bishan': {'latitude': 1.350772, 'longitude': 103.839},\n",
       " 'Boon Lay': {'latitude': 1.304, 'longitude': 103.701},\n",
       " 'Bukit Batok': {'latitude': 1.353, 'longitude': 103.754},\n",
       " 'Bukit Merah': {'latitude': 1.277, 'longitude': 103.819},\n",
       " 'Bukit Panjang': {'latitude': 1.362, 'longitude': 103.77195},\n",
       " 'Bukit Timah': {'latitude': 1.325, 'longitude': 103.791},\n",
       " 'Central Water Catchment': {'latitude': 1.38, 'longitude': 103.805},\n",
       " 'Changi': {'latitude': 1.357, 'longitude': 103.987},\n",
       " 'Choa Chu Kang': {'latitude': 1.377, 'longitude': 103.745},\n",
       " 'Clementi': {'latitude': 1.315, 'longitude': 103.76},\n",
       " 'City': {'latitude': 1.292, 'longitude': 103.844},\n",
       " 'Geylang': {'latitude': 1.318, 'longitude': 103.884},\n",
       " 'Hougang': {'latitude': 1.361218, 'longitude': 103.886},\n",
       " 'Jalan Bahar': {'latitude': 1.347, 'longitude': 103.67},\n",
       " 'Jurong East': {'latitude': 1.326, 'longitude': 103.737},\n",
       " 'Jurong Island': {'latitude': 1.266, 'longitude': 103.699},\n",
       " 'Jurong West': {'latitude': 1.34039, 'longitude': 103.705},\n",
       " 'Kallang': {'latitude': 1.312, 'longitude': 103.862},\n",
       " 'Lim Chu Kang': {'latitude': 1.423, 'longitude': 103.717332},\n",
       " 'Mandai': {'latitude': 1.419, 'longitude': 103.812},\n",
       " 'Marine Parade': {'latitude': 1.297, 'longitude': 103.891},\n",
       " 'Novena': {'latitude': 1.327, 'longitude': 103.826},\n",
       " 'Pasir Ris': {'latitude': 1.37, 'longitude': 103.948},\n",
       " 'Paya Lebar': {'latitude': 1.358, 'longitude': 103.914},\n",
       " 'Pioneer': {'latitude': 1.315, 'longitude': 103.675},\n",
       " 'Pulau Tekong': {'latitude': 1.403, 'longitude': 104.053},\n",
       " 'Pulau Ubin': {'latitude': 1.404, 'longitude': 103.96},\n",
       " 'Punggol': {'latitude': 1.401, 'longitude': 103.904},\n",
       " 'Queenstown': {'latitude': 1.291, 'longitude': 103.78576},\n",
       " 'Seletar': {'latitude': 1.404, 'longitude': 103.869},\n",
       " 'Sembawang': {'latitude': 1.445, 'longitude': 103.818495},\n",
       " 'Sengkang': {'latitude': 1.384, 'longitude': 103.891443},\n",
       " 'Sentosa': {'latitude': 1.243, 'longitude': 103.832},\n",
       " 'Serangoon': {'latitude': 1.357, 'longitude': 103.865},\n",
       " 'Southern Islands': {'latitude': 1.208, 'longitude': 103.842},\n",
       " 'Sungei Kadut': {'latitude': 1.413, 'longitude': 103.756},\n",
       " 'Tampines': {'latitude': 1.345, 'longitude': 103.944},\n",
       " 'Tanglin': {'latitude': 1.308, 'longitude': 103.813},\n",
       " 'Tengah': {'latitude': 1.374, 'longitude': 103.715},\n",
       " 'Toa Payoh': {'latitude': 1.334304, 'longitude': 103.856327},\n",
       " 'Tuas': {'latitude': 1.294947, 'longitude': 103.635},\n",
       " 'Western Islands': {'latitude': 1.205926, 'longitude': 103.746},\n",
       " 'Western Water Catchment': {'latitude': 1.405, 'longitude': 103.689},\n",
       " 'Woodlands': {'latitude': 1.432, 'longitude': 103.786528},\n",
       " 'Yishun': {'latitude': 1.418, 'longitude': 103.839}}"
      ]
     },
     "execution_count": 58,
     "metadata": {},
     "output_type": "execute_result"
    }
   ],
   "source": [
    "dict = {}\n",
    "for area in r[\"area_metadata\"]:\n",
    "    dict[area[\"name\"]] = area[\"label_location\"]\n",
    "dict"
   ]
  },
  {
   "cell_type": "code",
   "execution_count": 66,
   "id": "cc2346dd",
   "metadata": {},
   "outputs": [
    {
     "name": "stdout",
     "output_type": "stream",
     "text": [
      "Hougang\n"
     ]
    }
   ],
   "source": [
    "mindist = 99999\n",
    "for location in dict.keys():\n",
    "    dist = distance(coords[0], coords[1], dict[location][\"latitude\"], dict[location][\"longitude\"])\n",
    "    if (dist < mindist):\n",
    "        mindist = dist\n",
    "        nearest_zone = location\n",
    "print(nearest_zone)"
   ]
  },
  {
   "cell_type": "code",
   "execution_count": 74,
   "id": "c751f538",
   "metadata": {},
   "outputs": [
    {
     "name": "stdout",
     "output_type": "stream",
     "text": [
      "Windy\n"
     ]
    }
   ],
   "source": [
    "for forecast in r[\"items\"][0][\"forecasts\"]:\n",
    "    if forecast[\"area\"] == nearest_zone:\n",
    "        print(forecast[\"forecast\"])\n",
    "        break"
   ]
  },
  {
   "cell_type": "code",
   "execution_count": 11,
   "id": "ba6f4044",
   "metadata": {},
   "outputs": [
    {
     "data": {
      "text/plain": [
       "{'metadata': {'stations': [{'id': 'S50',\n",
       "    'device_id': 'S50',\n",
       "    'name': 'Clementi Road',\n",
       "    'location': {'latitude': 1.3337, 'longitude': 103.7768}},\n",
       "   {'id': 'S43',\n",
       "    'device_id': 'S43',\n",
       "    'name': 'Kim Chuan Road',\n",
       "    'location': {'latitude': 1.3399, 'longitude': 103.8878}},\n",
       "   {'id': 'S44',\n",
       "    'device_id': 'S44',\n",
       "    'name': 'Nanyang Avenue',\n",
       "    'location': {'latitude': 1.34583, 'longitude': 103.68166}}],\n",
       "  'reading_type': 'DBT 1M F',\n",
       "  'reading_unit': 'deg C'},\n",
       " 'items': [{'timestamp': '2021-12-16T22:55:00+08:00',\n",
       "   'readings': [{'station_id': 'S50', 'value': 28},\n",
       "    {'station_id': 'S43', 'value': 28.3},\n",
       "    {'station_id': 'S44', 'value': 27.4}]}],\n",
       " 'api_info': {'status': 'healthy'}}"
      ]
     },
     "execution_count": 11,
     "metadata": {},
     "output_type": "execute_result"
    }
   ],
   "source": [
    "r = requests.get(\"https://api.data.gov.sg/v1/environment/air-temperature\", params=params).json()\n",
    "r"
   ]
  },
  {
   "cell_type": "code",
   "execution_count": 12,
   "id": "36430016",
   "metadata": {},
   "outputs": [
    {
     "data": {
      "text/plain": [
       "[{'id': 'S50',\n",
       "  'device_id': 'S50',\n",
       "  'name': 'Clementi Road',\n",
       "  'location': {'latitude': 1.3337, 'longitude': 103.7768}},\n",
       " {'id': 'S43',\n",
       "  'device_id': 'S43',\n",
       "  'name': 'Kim Chuan Road',\n",
       "  'location': {'latitude': 1.3399, 'longitude': 103.8878}},\n",
       " {'id': 'S44',\n",
       "  'device_id': 'S44',\n",
       "  'name': 'Nanyang Avenue',\n",
       "  'location': {'latitude': 1.34583, 'longitude': 103.68166}}]"
      ]
     },
     "execution_count": 12,
     "metadata": {},
     "output_type": "execute_result"
    }
   ],
   "source": [
    "r[\"metadata\"][\"stations\"]"
   ]
  },
  {
   "cell_type": "code",
   "execution_count": 19,
   "id": "2e1461a4",
   "metadata": {},
   "outputs": [
    {
     "name": "stdout",
     "output_type": "stream",
     "text": [
      "28.3\n"
     ]
    }
   ],
   "source": [
    "mindist = 99999\n",
    "for station in r[\"metadata\"][\"stations\"]:\n",
    "    dist = distance(coords[0], coords[1], station[\"location\"][\"latitude\"], station[\"location\"][\"longitude\"])\n",
    "    if (dist < mindist):\n",
    "        mindist = dist\n",
    "        nearest_station = station[\"id\"]\n",
    "for station in r[\"items\"][0][\"readings\"]:\n",
    "    if station[\"station_id\"] == nearest_station:\n",
    "        print(station[\"value\"])\n",
    "        break"
   ]
  },
  {
   "cell_type": "code",
   "execution_count": 16,
   "id": "d3579bd2",
   "metadata": {},
   "outputs": [
    {
     "data": {
      "text/plain": [
       "[{'station_id': 'S50', 'value': 28},\n",
       " {'station_id': 'S43', 'value': 28.3},\n",
       " {'station_id': 'S44', 'value': 27.4}]"
      ]
     },
     "execution_count": 16,
     "metadata": {},
     "output_type": "execute_result"
    }
   ],
   "source": [
    "r[\"items\"][0][\"readings\"]"
   ]
  },
  {
   "cell_type": "code",
   "execution_count": 44,
   "id": "70f42107",
   "metadata": {},
   "outputs": [
    {
     "data": {
      "text/plain": [
       "{'metadata': {'stations': [{'id': 'S109',\n",
       "    'device_id': 'S109',\n",
       "    'name': 'Ang Mo Kio Avenue 5',\n",
       "    'location': {'latitude': 1.3764, 'longitude': 103.8492}},\n",
       "   {'id': 'S117',\n",
       "    'device_id': 'S117',\n",
       "    'name': 'Banyan Road',\n",
       "    'location': {'latitude': 1.256, 'longitude': 103.679}},\n",
       "   {'id': 'S50',\n",
       "    'device_id': 'S50',\n",
       "    'name': 'Clementi Road',\n",
       "    'location': {'latitude': 1.3337, 'longitude': 103.7768}},\n",
       "   {'id': 'S107',\n",
       "    'device_id': 'S107',\n",
       "    'name': 'East Coast Parkway',\n",
       "    'location': {'latitude': 1.3135, 'longitude': 103.9625}},\n",
       "   {'id': 'S43',\n",
       "    'device_id': 'S43',\n",
       "    'name': 'Kim Chuan Road',\n",
       "    'location': {'latitude': 1.3399, 'longitude': 103.8878}},\n",
       "   {'id': 'S108',\n",
       "    'device_id': 'S108',\n",
       "    'name': 'Marina Gardens Drive',\n",
       "    'location': {'latitude': 1.2799, 'longitude': 103.8703}},\n",
       "   {'id': 'S44',\n",
       "    'device_id': 'S44',\n",
       "    'name': 'Nanyang Avenue',\n",
       "    'location': {'latitude': 1.34583, 'longitude': 103.68166}},\n",
       "   {'id': 'S106',\n",
       "    'device_id': 'S106',\n",
       "    'name': 'Pulau Ubin',\n",
       "    'location': {'latitude': 1.4168, 'longitude': 103.9673}},\n",
       "   {'id': 'S60',\n",
       "    'device_id': 'S60',\n",
       "    'name': 'Sentosa',\n",
       "    'location': {'latitude': 1.25, 'longitude': 103.8279}},\n",
       "   {'id': 'S115',\n",
       "    'device_id': 'S115',\n",
       "    'name': 'Tuas South Avenue 3',\n",
       "    'location': {'latitude': 1.29377, 'longitude': 103.61843}},\n",
       "   {'id': 'S24',\n",
       "    'device_id': 'S24',\n",
       "    'name': 'Upper Changi Road North',\n",
       "    'location': {'latitude': 1.3678, 'longitude': 103.9826}},\n",
       "   {'id': 'S116',\n",
       "    'device_id': 'S116',\n",
       "    'name': 'West Coast Highway',\n",
       "    'location': {'latitude': 1.281, 'longitude': 103.754}},\n",
       "   {'id': 'S104',\n",
       "    'device_id': 'S104',\n",
       "    'name': 'Woodlands Avenue 9',\n",
       "    'location': {'latitude': 1.44387, 'longitude': 103.78538}},\n",
       "   {'id': 'S100',\n",
       "    'device_id': 'S100',\n",
       "    'name': 'Woodlands Road',\n",
       "    'location': {'latitude': 1.4172, 'longitude': 103.74855}}],\n",
       "  'reading_type': 'Wind Speed AVG(S)10M M1M',\n",
       "  'reading_unit': 'knots'},\n",
       " 'items': [{'timestamp': '2021-12-16T22:56:00+08:00',\n",
       "   'readings': [{'station_id': 'S109', 'value': 3.1},\n",
       "    {'station_id': 'S117', 'value': 5.8},\n",
       "    {'station_id': 'S50', 'value': 2.1},\n",
       "    {'station_id': 'S107', 'value': 3.9},\n",
       "    {'station_id': 'S43', 'value': 6.9},\n",
       "    {'station_id': 'S108', 'value': 4.1},\n",
       "    {'station_id': 'S44', 'value': 3.9},\n",
       "    {'station_id': 'S106', 'value': 1.9},\n",
       "    {'station_id': 'S60', 'value': 4.1},\n",
       "    {'station_id': 'S115', 'value': 6.3},\n",
       "    {'station_id': 'S24', 'value': 3.6},\n",
       "    {'station_id': 'S116', 'value': 16.8},\n",
       "    {'station_id': 'S104', 'value': 5.7},\n",
       "    {'station_id': 'S100', 'value': 2.6}]}],\n",
       " 'api_info': {'status': 'healthy'}}"
      ]
     },
     "execution_count": 44,
     "metadata": {},
     "output_type": "execute_result"
    }
   ],
   "source": [
    "r = requests.get(\"https://api.data.gov.sg/v1/environment/wind-speed\", params=params).json()\n",
    "r"
   ]
  },
  {
   "cell_type": "code",
   "execution_count": 45,
   "id": "8b651a58",
   "metadata": {},
   "outputs": [
    {
     "name": "stdout",
     "output_type": "stream",
     "text": [
      "Ang Mo Kio Avenue 5\n",
      "Kim Chuan Road\n",
      "6.9 knots\n"
     ]
    }
   ],
   "source": [
    "mindist = 99999\n",
    "unit = r[\"metadata\"][\"reading_unit\"]\n",
    "for station in r[\"metadata\"][\"stations\"]:\n",
    "    dist = distance(coords[0], coords[1], station[\"location\"][\"latitude\"], station[\"location\"][\"longitude\"])\n",
    "    if (dist < mindist):\n",
    "        mindist = dist\n",
    "        nearest_station = station[\"id\"]\n",
    "for station in r[\"items\"][0][\"readings\"]:\n",
    "    if station[\"station_id\"] == nearest_station:\n",
    "        value = station[\"value\"]\n",
    "        print(f\"{value} {unit}\")\n",
    "        break"
   ]
  },
  {
   "cell_type": "code",
   "execution_count": 32,
   "id": "b2991077",
   "metadata": {},
   "outputs": [
    {
     "data": {
      "text/plain": [
       "'degrees'"
      ]
     },
     "execution_count": 32,
     "metadata": {},
     "output_type": "execute_result"
    }
   ],
   "source": [
    "r[\"metadata\"][\"reading_unit\"]"
   ]
  },
  {
   "cell_type": "code",
   "execution_count": null,
   "id": "10178f93",
   "metadata": {},
   "outputs": [],
   "source": []
  }
 ],
 "metadata": {
  "kernelspec": {
   "display_name": "Python 3 (ipykernel)",
   "language": "python",
   "name": "python3"
  },
  "language_info": {
   "codemirror_mode": {
    "name": "ipython",
    "version": 3
   },
   "file_extension": ".py",
   "mimetype": "text/x-python",
   "name": "python",
   "nbconvert_exporter": "python",
   "pygments_lexer": "ipython3",
   "version": "3.10.0"
  }
 },
 "nbformat": 4,
 "nbformat_minor": 5
}
